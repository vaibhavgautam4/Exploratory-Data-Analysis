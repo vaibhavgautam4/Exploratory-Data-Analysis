{
 "cells": [
  {
   "cell_type": "code",
   "execution_count": 1,
   "metadata": {},
   "outputs": [],
   "source": [
    "import numpy as np\n",
    "import pandas as pd\n",
    "from matplotlib import pyplot as plt"
   ]
  },
  {
   "cell_type": "code",
   "execution_count": 2,
   "metadata": {},
   "outputs": [],
   "source": [
    "# data = pd.read_csv('clean_house_data.csv')\n",
    "data = pd.read_csv('data.csv')"
   ]
  },
  {
   "cell_type": "code",
   "execution_count": 3,
   "metadata": {},
   "outputs": [],
   "source": [
    "from sklearn.model_selection import train_test_split"
   ]
  },
  {
   "cell_type": "code",
   "execution_count": 4,
   "metadata": {},
   "outputs": [],
   "source": [
    "xtrain, ytrain, xtest, ytest = train_test_split(data.drop(['Construction Cost (INR)'], axis = 1), data['Construction Cost (INR)'], test_size=0.2) "
   ]
  },
  {
   "cell_type": "code",
   "execution_count": 5,
   "metadata": {},
   "outputs": [
    {
     "data": {
      "text/plain": [
       "((112, 20), (112,))"
      ]
     },
     "execution_count": 5,
     "metadata": {},
     "output_type": "execute_result"
    }
   ],
   "source": [
    "xtrain.shape, xtest.shape"
   ]
  },
  {
   "cell_type": "code",
   "execution_count": 6,
   "metadata": {},
   "outputs": [
    {
     "data": {
      "text/plain": [
       "((29, 20), (29,))"
      ]
     },
     "execution_count": 6,
     "metadata": {},
     "output_type": "execute_result"
    }
   ],
   "source": [
    "ytrain.shape, ytest.shape"
   ]
  },
  {
   "cell_type": "markdown",
   "metadata": {},
   "source": [
    "apply label encoding on columns containing categorical data"
   ]
  },
  {
   "cell_type": "code",
   "execution_count": 7,
   "metadata": {},
   "outputs": [],
   "source": [
    "columns = ['Locality','Place','Building Material','Supplier']"
   ]
  },
  {
   "cell_type": "code",
   "execution_count": 8,
   "metadata": {},
   "outputs": [],
   "source": [
    "data1 = data.copy()"
   ]
  },
  {
   "cell_type": "code",
   "execution_count": 9,
   "metadata": {},
   "outputs": [],
   "source": [
    "from sklearn import preprocessing"
   ]
  },
  {
   "cell_type": "code",
   "execution_count": 10,
   "metadata": {},
   "outputs": [],
   "source": [
    "label_encoder = preprocessing.LabelEncoder()\n",
    "# label_encoder = preprocessing.\n",
    "\n",
    "data1['Locality'] = label_encoder.fit_transform(data['Locality'])\n",
    "data1['Place'] = label_encoder.fit_transform(data['Place'])\n",
    "data1['Building Material'] = label_encoder.fit_transform(data['Building Material'])\n",
    "data1['Supplier'] = label_encoder.fit_transform(data['Supplier'])\n"
   ]
  },
  {
   "cell_type": "code",
   "execution_count": 11,
   "metadata": {},
   "outputs": [
    {
     "data": {
      "text/html": [
       "<div>\n",
       "<style scoped>\n",
       "    .dataframe tbody tr th:only-of-type {\n",
       "        vertical-align: middle;\n",
       "    }\n",
       "\n",
       "    .dataframe tbody tr th {\n",
       "        vertical-align: top;\n",
       "    }\n",
       "\n",
       "    .dataframe thead th {\n",
       "        text-align: right;\n",
       "    }\n",
       "</style>\n",
       "<table border=\"1\" class=\"dataframe\">\n",
       "  <thead>\n",
       "    <tr style=\"text-align: right;\">\n",
       "      <th></th>\n",
       "      <th>Unnamed: 0</th>\n",
       "      <th>Locality</th>\n",
       "      <th>Place</th>\n",
       "      <th>Property Size (sq. meters)</th>\n",
       "      <th>Number of Floors</th>\n",
       "      <th>Building Material</th>\n",
       "      <th>Total Material Cost (INR)</th>\n",
       "      <th>Total Labor Cost (INR)</th>\n",
       "      <th>Permit Cost (INR)</th>\n",
       "      <th>Utility Cost (INR)</th>\n",
       "      <th>...</th>\n",
       "      <th>Bathrooms</th>\n",
       "      <th>Supplier</th>\n",
       "      <th>Area of One Room (sq. meters)</th>\n",
       "      <th>Cement Cost (INR per bag)</th>\n",
       "      <th>Construction Cost (INR)</th>\n",
       "      <th>Total Area of House (sq. meters)</th>\n",
       "      <th>Number of Doors</th>\n",
       "      <th>Number of Windows</th>\n",
       "      <th>Number of Rooms</th>\n",
       "      <th>Total Cost (INR)</th>\n",
       "    </tr>\n",
       "  </thead>\n",
       "  <tbody>\n",
       "    <tr>\n",
       "      <th>0</th>\n",
       "      <td>0</td>\n",
       "      <td>13</td>\n",
       "      <td>94</td>\n",
       "      <td>200</td>\n",
       "      <td>2</td>\n",
       "      <td>3</td>\n",
       "      <td>3800000</td>\n",
       "      <td>1900000</td>\n",
       "      <td>160000</td>\n",
       "      <td>120000</td>\n",
       "      <td>...</td>\n",
       "      <td>3</td>\n",
       "      <td>56</td>\n",
       "      <td>20</td>\n",
       "      <td>410</td>\n",
       "      <td>5400000</td>\n",
       "      <td>220</td>\n",
       "      <td>10</td>\n",
       "      <td>8</td>\n",
       "      <td>8</td>\n",
       "      <td>7420000</td>\n",
       "    </tr>\n",
       "    <tr>\n",
       "      <th>1</th>\n",
       "      <td>1</td>\n",
       "      <td>12</td>\n",
       "      <td>82</td>\n",
       "      <td>180</td>\n",
       "      <td>1</td>\n",
       "      <td>4</td>\n",
       "      <td>2800000</td>\n",
       "      <td>1300000</td>\n",
       "      <td>110000</td>\n",
       "      <td>75000</td>\n",
       "      <td>...</td>\n",
       "      <td>2</td>\n",
       "      <td>88</td>\n",
       "      <td>22</td>\n",
       "      <td>380</td>\n",
       "      <td>4200000</td>\n",
       "      <td>180</td>\n",
       "      <td>8</td>\n",
       "      <td>6</td>\n",
       "      <td>7</td>\n",
       "      <td>4425000</td>\n",
       "    </tr>\n",
       "    <tr>\n",
       "      <th>2</th>\n",
       "      <td>2</td>\n",
       "      <td>11</td>\n",
       "      <td>79</td>\n",
       "      <td>220</td>\n",
       "      <td>3</td>\n",
       "      <td>5</td>\n",
       "      <td>4500000</td>\n",
       "      <td>2100000</td>\n",
       "      <td>170000</td>\n",
       "      <td>95000</td>\n",
       "      <td>...</td>\n",
       "      <td>3</td>\n",
       "      <td>71</td>\n",
       "      <td>24</td>\n",
       "      <td>430</td>\n",
       "      <td>6200000</td>\n",
       "      <td>240</td>\n",
       "      <td>12</td>\n",
       "      <td>10</td>\n",
       "      <td>9</td>\n",
       "      <td>8895000</td>\n",
       "    </tr>\n",
       "    <tr>\n",
       "      <th>3</th>\n",
       "      <td>3</td>\n",
       "      <td>14</td>\n",
       "      <td>88</td>\n",
       "      <td>190</td>\n",
       "      <td>2</td>\n",
       "      <td>3</td>\n",
       "      <td>3600000</td>\n",
       "      <td>1700000</td>\n",
       "      <td>140000</td>\n",
       "      <td>90000</td>\n",
       "      <td>...</td>\n",
       "      <td>2</td>\n",
       "      <td>60</td>\n",
       "      <td>19</td>\n",
       "      <td>400</td>\n",
       "      <td>5000000</td>\n",
       "      <td>200</td>\n",
       "      <td>9</td>\n",
       "      <td>7</td>\n",
       "      <td>7</td>\n",
       "      <td>6750000</td>\n",
       "    </tr>\n",
       "    <tr>\n",
       "      <th>4</th>\n",
       "      <td>4</td>\n",
       "      <td>10</td>\n",
       "      <td>63</td>\n",
       "      <td>210</td>\n",
       "      <td>2</td>\n",
       "      <td>4</td>\n",
       "      <td>4000000</td>\n",
       "      <td>1800000</td>\n",
       "      <td>150000</td>\n",
       "      <td>100000</td>\n",
       "      <td>...</td>\n",
       "      <td>2</td>\n",
       "      <td>63</td>\n",
       "      <td>22</td>\n",
       "      <td>390</td>\n",
       "      <td>5400000</td>\n",
       "      <td>210</td>\n",
       "      <td>10</td>\n",
       "      <td>8</td>\n",
       "      <td>8</td>\n",
       "      <td>7560000</td>\n",
       "    </tr>\n",
       "    <tr>\n",
       "      <th>...</th>\n",
       "      <td>...</td>\n",
       "      <td>...</td>\n",
       "      <td>...</td>\n",
       "      <td>...</td>\n",
       "      <td>...</td>\n",
       "      <td>...</td>\n",
       "      <td>...</td>\n",
       "      <td>...</td>\n",
       "      <td>...</td>\n",
       "      <td>...</td>\n",
       "      <td>...</td>\n",
       "      <td>...</td>\n",
       "      <td>...</td>\n",
       "      <td>...</td>\n",
       "      <td>...</td>\n",
       "      <td>...</td>\n",
       "      <td>...</td>\n",
       "      <td>...</td>\n",
       "      <td>...</td>\n",
       "      <td>...</td>\n",
       "      <td>...</td>\n",
       "    </tr>\n",
       "    <tr>\n",
       "      <th>136</th>\n",
       "      <td>136</td>\n",
       "      <td>8</td>\n",
       "      <td>36</td>\n",
       "      <td>225</td>\n",
       "      <td>4</td>\n",
       "      <td>1</td>\n",
       "      <td>4800000</td>\n",
       "      <td>2200000</td>\n",
       "      <td>180000</td>\n",
       "      <td>125000</td>\n",
       "      <td>...</td>\n",
       "      <td>3</td>\n",
       "      <td>53</td>\n",
       "      <td>22</td>\n",
       "      <td>430</td>\n",
       "      <td>5900000</td>\n",
       "      <td>225</td>\n",
       "      <td>11</td>\n",
       "      <td>10</td>\n",
       "      <td>9</td>\n",
       "      <td>7600000</td>\n",
       "    </tr>\n",
       "    <tr>\n",
       "      <th>137</th>\n",
       "      <td>137</td>\n",
       "      <td>0</td>\n",
       "      <td>39</td>\n",
       "      <td>210</td>\n",
       "      <td>3</td>\n",
       "      <td>2</td>\n",
       "      <td>4600000</td>\n",
       "      <td>2100000</td>\n",
       "      <td>170000</td>\n",
       "      <td>115000</td>\n",
       "      <td>...</td>\n",
       "      <td>3</td>\n",
       "      <td>1</td>\n",
       "      <td>21</td>\n",
       "      <td>420</td>\n",
       "      <td>5600000</td>\n",
       "      <td>210</td>\n",
       "      <td>10</td>\n",
       "      <td>9</td>\n",
       "      <td>8</td>\n",
       "      <td>6700000</td>\n",
       "    </tr>\n",
       "    <tr>\n",
       "      <th>138</th>\n",
       "      <td>138</td>\n",
       "      <td>6</td>\n",
       "      <td>55</td>\n",
       "      <td>240</td>\n",
       "      <td>4</td>\n",
       "      <td>1</td>\n",
       "      <td>4900000</td>\n",
       "      <td>2300000</td>\n",
       "      <td>190000</td>\n",
       "      <td>135000</td>\n",
       "      <td>...</td>\n",
       "      <td>3</td>\n",
       "      <td>8</td>\n",
       "      <td>24</td>\n",
       "      <td>440</td>\n",
       "      <td>5900000</td>\n",
       "      <td>240</td>\n",
       "      <td>12</td>\n",
       "      <td>11</td>\n",
       "      <td>10</td>\n",
       "      <td>7800000</td>\n",
       "    </tr>\n",
       "    <tr>\n",
       "      <th>139</th>\n",
       "      <td>139</td>\n",
       "      <td>4</td>\n",
       "      <td>33</td>\n",
       "      <td>215</td>\n",
       "      <td>3</td>\n",
       "      <td>0</td>\n",
       "      <td>4700000</td>\n",
       "      <td>2100000</td>\n",
       "      <td>170000</td>\n",
       "      <td>115000</td>\n",
       "      <td>...</td>\n",
       "      <td>3</td>\n",
       "      <td>14</td>\n",
       "      <td>22</td>\n",
       "      <td>420</td>\n",
       "      <td>5600000</td>\n",
       "      <td>215</td>\n",
       "      <td>11</td>\n",
       "      <td>10</td>\n",
       "      <td>9</td>\n",
       "      <td>7100000</td>\n",
       "    </tr>\n",
       "    <tr>\n",
       "      <th>140</th>\n",
       "      <td>140</td>\n",
       "      <td>2</td>\n",
       "      <td>56</td>\n",
       "      <td>205</td>\n",
       "      <td>2</td>\n",
       "      <td>2</td>\n",
       "      <td>4100000</td>\n",
       "      <td>1800000</td>\n",
       "      <td>150000</td>\n",
       "      <td>100000</td>\n",
       "      <td>...</td>\n",
       "      <td>2</td>\n",
       "      <td>20</td>\n",
       "      <td>21</td>\n",
       "      <td>410</td>\n",
       "      <td>5300000</td>\n",
       "      <td>205</td>\n",
       "      <td>10</td>\n",
       "      <td>8</td>\n",
       "      <td>8</td>\n",
       "      <td>6500000</td>\n",
       "    </tr>\n",
       "  </tbody>\n",
       "</table>\n",
       "<p>141 rows × 21 columns</p>\n",
       "</div>"
      ],
      "text/plain": [
       "     Unnamed: 0  Locality  Place  Property Size (sq. meters)  \\\n",
       "0             0        13     94                         200   \n",
       "1             1        12     82                         180   \n",
       "2             2        11     79                         220   \n",
       "3             3        14     88                         190   \n",
       "4             4        10     63                         210   \n",
       "..          ...       ...    ...                         ...   \n",
       "136         136         8     36                         225   \n",
       "137         137         0     39                         210   \n",
       "138         138         6     55                         240   \n",
       "139         139         4     33                         215   \n",
       "140         140         2     56                         205   \n",
       "\n",
       "     Number of Floors  Building Material  Total Material Cost (INR)  \\\n",
       "0                   2                  3                    3800000   \n",
       "1                   1                  4                    2800000   \n",
       "2                   3                  5                    4500000   \n",
       "3                   2                  3                    3600000   \n",
       "4                   2                  4                    4000000   \n",
       "..                ...                ...                        ...   \n",
       "136                 4                  1                    4800000   \n",
       "137                 3                  2                    4600000   \n",
       "138                 4                  1                    4900000   \n",
       "139                 3                  0                    4700000   \n",
       "140                 2                  2                    4100000   \n",
       "\n",
       "     Total Labor Cost (INR)  Permit Cost (INR)  Utility Cost (INR)  ...  \\\n",
       "0                   1900000             160000              120000  ...   \n",
       "1                   1300000             110000               75000  ...   \n",
       "2                   2100000             170000               95000  ...   \n",
       "3                   1700000             140000               90000  ...   \n",
       "4                   1800000             150000              100000  ...   \n",
       "..                      ...                ...                 ...  ...   \n",
       "136                 2200000             180000              125000  ...   \n",
       "137                 2100000             170000              115000  ...   \n",
       "138                 2300000             190000              135000  ...   \n",
       "139                 2100000             170000              115000  ...   \n",
       "140                 1800000             150000              100000  ...   \n",
       "\n",
       "     Bathrooms  Supplier  Area of One Room (sq. meters)  \\\n",
       "0            3        56                             20   \n",
       "1            2        88                             22   \n",
       "2            3        71                             24   \n",
       "3            2        60                             19   \n",
       "4            2        63                             22   \n",
       "..         ...       ...                            ...   \n",
       "136          3        53                             22   \n",
       "137          3         1                             21   \n",
       "138          3         8                             24   \n",
       "139          3        14                             22   \n",
       "140          2        20                             21   \n",
       "\n",
       "     Cement Cost (INR per bag)  Construction Cost (INR)  \\\n",
       "0                          410                  5400000   \n",
       "1                          380                  4200000   \n",
       "2                          430                  6200000   \n",
       "3                          400                  5000000   \n",
       "4                          390                  5400000   \n",
       "..                         ...                      ...   \n",
       "136                        430                  5900000   \n",
       "137                        420                  5600000   \n",
       "138                        440                  5900000   \n",
       "139                        420                  5600000   \n",
       "140                        410                  5300000   \n",
       "\n",
       "     Total Area of House (sq. meters)  Number of Doors  Number of Windows  \\\n",
       "0                                 220               10                  8   \n",
       "1                                 180                8                  6   \n",
       "2                                 240               12                 10   \n",
       "3                                 200                9                  7   \n",
       "4                                 210               10                  8   \n",
       "..                                ...              ...                ...   \n",
       "136                               225               11                 10   \n",
       "137                               210               10                  9   \n",
       "138                               240               12                 11   \n",
       "139                               215               11                 10   \n",
       "140                               205               10                  8   \n",
       "\n",
       "     Number of Rooms  Total Cost (INR)  \n",
       "0                  8           7420000  \n",
       "1                  7           4425000  \n",
       "2                  9           8895000  \n",
       "3                  7           6750000  \n",
       "4                  8           7560000  \n",
       "..               ...               ...  \n",
       "136                9           7600000  \n",
       "137                8           6700000  \n",
       "138               10           7800000  \n",
       "139                9           7100000  \n",
       "140                8           6500000  \n",
       "\n",
       "[141 rows x 21 columns]"
      ]
     },
     "execution_count": 11,
     "metadata": {},
     "output_type": "execute_result"
    }
   ],
   "source": [
    "data1"
   ]
  },
  {
   "cell_type": "code",
   "execution_count": 12,
   "metadata": {},
   "outputs": [
    {
     "data": {
      "text/plain": [
       "Unnamed: 0                          int64\n",
       "Locality                            int32\n",
       "Place                               int32\n",
       "Property Size (sq. meters)          int64\n",
       "Number of Floors                    int64\n",
       "Building Material                   int32\n",
       "Total Material Cost (INR)           int64\n",
       "Total Labor Cost (INR)              int64\n",
       "Permit Cost (INR)                   int64\n",
       "Utility Cost (INR)                  int64\n",
       "Bedrooms                            int64\n",
       "Bathrooms                           int64\n",
       "Supplier                            int32\n",
       "Area of One Room (sq. meters)       int64\n",
       "Cement Cost (INR per bag)           int64\n",
       "Construction Cost (INR)             int64\n",
       "Total Area of House (sq. meters)    int64\n",
       "Number of Doors                     int64\n",
       "Number of Windows                   int64\n",
       "Number of Rooms                     int64\n",
       "Total Cost (INR)                    int64\n",
       "dtype: object"
      ]
     },
     "execution_count": 12,
     "metadata": {},
     "output_type": "execute_result"
    }
   ],
   "source": [
    "data1.dtypes"
   ]
  },
  {
   "cell_type": "code",
   "execution_count": 13,
   "metadata": {},
   "outputs": [],
   "source": [
    "from sklearn.metrics import r2_score"
   ]
  },
  {
   "cell_type": "code",
   "execution_count": 14,
   "metadata": {},
   "outputs": [],
   "source": [
    "x = data1.drop(columns=['Total Cost (INR)'])\n",
    "y = data1['Total Cost (INR)']"
   ]
  },
  {
   "cell_type": "code",
   "execution_count": 36,
   "metadata": {},
   "outputs": [],
   "source": [
    "from sklearn.model_selection import train_test_split\n",
    "X_train, X_test, y_train, y_test = train_test_split(x, y, test_size=0.2,random_state=5)"
   ]
  },
  {
   "cell_type": "code",
   "execution_count": 37,
   "metadata": {},
   "outputs": [],
   "source": [
    "# import xgboost as xgb"
   ]
  },
  {
   "cell_type": "code",
   "execution_count": 71,
   "metadata": {},
   "outputs": [
    {
     "name": "stderr",
     "output_type": "stream",
     "text": [
      "d:\\SIH 2023\\sih\\lib\\site-packages\\xgboost\\data.py:335: FutureWarning: is_sparse is deprecated and will be removed in a future version. Check `isinstance(dtype, pd.SparseDtype)` instead.\n",
      "  if is_sparse(dtype):\n",
      "d:\\SIH 2023\\sih\\lib\\site-packages\\xgboost\\data.py:338: FutureWarning: is_categorical_dtype is deprecated and will be removed in a future version. Use isinstance(dtype, CategoricalDtype) instead\n",
      "  is_categorical_dtype(dtype) or is_pa_ext_categorical_dtype(dtype)\n",
      "d:\\SIH 2023\\sih\\lib\\site-packages\\xgboost\\data.py:384: FutureWarning: is_categorical_dtype is deprecated and will be removed in a future version. Use isinstance(dtype, CategoricalDtype) instead\n",
      "  if is_categorical_dtype(dtype):\n",
      "d:\\SIH 2023\\sih\\lib\\site-packages\\xgboost\\data.py:359: FutureWarning: is_categorical_dtype is deprecated and will be removed in a future version. Use isinstance(dtype, CategoricalDtype) instead\n",
      "  return is_int or is_bool or is_float or is_categorical_dtype(dtype)\n",
      "d:\\SIH 2023\\sih\\lib\\site-packages\\xgboost\\data.py:520: FutureWarning: is_sparse is deprecated and will be removed in a future version. Check `isinstance(dtype, pd.SparseDtype)` instead.\n",
      "  if is_sparse(data):\n"
     ]
    },
    {
     "data": {
      "text/html": [
       "<style>#sk-container-id-6 {color: black;}#sk-container-id-6 pre{padding: 0;}#sk-container-id-6 div.sk-toggleable {background-color: white;}#sk-container-id-6 label.sk-toggleable__label {cursor: pointer;display: block;width: 100%;margin-bottom: 0;padding: 0.3em;box-sizing: border-box;text-align: center;}#sk-container-id-6 label.sk-toggleable__label-arrow:before {content: \"▸\";float: left;margin-right: 0.25em;color: #696969;}#sk-container-id-6 label.sk-toggleable__label-arrow:hover:before {color: black;}#sk-container-id-6 div.sk-estimator:hover label.sk-toggleable__label-arrow:before {color: black;}#sk-container-id-6 div.sk-toggleable__content {max-height: 0;max-width: 0;overflow: hidden;text-align: left;background-color: #f0f8ff;}#sk-container-id-6 div.sk-toggleable__content pre {margin: 0.2em;color: black;border-radius: 0.25em;background-color: #f0f8ff;}#sk-container-id-6 input.sk-toggleable__control:checked~div.sk-toggleable__content {max-height: 200px;max-width: 100%;overflow: auto;}#sk-container-id-6 input.sk-toggleable__control:checked~label.sk-toggleable__label-arrow:before {content: \"▾\";}#sk-container-id-6 div.sk-estimator input.sk-toggleable__control:checked~label.sk-toggleable__label {background-color: #d4ebff;}#sk-container-id-6 div.sk-label input.sk-toggleable__control:checked~label.sk-toggleable__label {background-color: #d4ebff;}#sk-container-id-6 input.sk-hidden--visually {border: 0;clip: rect(1px 1px 1px 1px);clip: rect(1px, 1px, 1px, 1px);height: 1px;margin: -1px;overflow: hidden;padding: 0;position: absolute;width: 1px;}#sk-container-id-6 div.sk-estimator {font-family: monospace;background-color: #f0f8ff;border: 1px dotted black;border-radius: 0.25em;box-sizing: border-box;margin-bottom: 0.5em;}#sk-container-id-6 div.sk-estimator:hover {background-color: #d4ebff;}#sk-container-id-6 div.sk-parallel-item::after {content: \"\";width: 100%;border-bottom: 1px solid gray;flex-grow: 1;}#sk-container-id-6 div.sk-label:hover label.sk-toggleable__label {background-color: #d4ebff;}#sk-container-id-6 div.sk-serial::before {content: \"\";position: absolute;border-left: 1px solid gray;box-sizing: border-box;top: 0;bottom: 0;left: 50%;z-index: 0;}#sk-container-id-6 div.sk-serial {display: flex;flex-direction: column;align-items: center;background-color: white;padding-right: 0.2em;padding-left: 0.2em;position: relative;}#sk-container-id-6 div.sk-item {position: relative;z-index: 1;}#sk-container-id-6 div.sk-parallel {display: flex;align-items: stretch;justify-content: center;background-color: white;position: relative;}#sk-container-id-6 div.sk-item::before, #sk-container-id-6 div.sk-parallel-item::before {content: \"\";position: absolute;border-left: 1px solid gray;box-sizing: border-box;top: 0;bottom: 0;left: 50%;z-index: -1;}#sk-container-id-6 div.sk-parallel-item {display: flex;flex-direction: column;z-index: 1;position: relative;background-color: white;}#sk-container-id-6 div.sk-parallel-item:first-child::after {align-self: flex-end;width: 50%;}#sk-container-id-6 div.sk-parallel-item:last-child::after {align-self: flex-start;width: 50%;}#sk-container-id-6 div.sk-parallel-item:only-child::after {width: 0;}#sk-container-id-6 div.sk-dashed-wrapped {border: 1px dashed gray;margin: 0 0.4em 0.5em 0.4em;box-sizing: border-box;padding-bottom: 0.4em;background-color: white;}#sk-container-id-6 div.sk-label label {font-family: monospace;font-weight: bold;display: inline-block;line-height: 1.2em;}#sk-container-id-6 div.sk-label-container {text-align: center;}#sk-container-id-6 div.sk-container {/* jupyter's `normalize.less` sets `[hidden] { display: none; }` but bootstrap.min.css set `[hidden] { display: none !important; }` so we also need the `!important` here to be able to override the default hidden behavior on the sphinx rendered scikit-learn.org. See: https://github.com/scikit-learn/scikit-learn/issues/21755 */display: inline-block !important;position: relative;}#sk-container-id-6 div.sk-text-repr-fallback {display: none;}</style><div id=\"sk-container-id-6\" class=\"sk-top-container\"><div class=\"sk-text-repr-fallback\"><pre>XGBRegressor(base_score=None, booster=None, callbacks=None,\n",
       "             colsample_bylevel=None, colsample_bynode=None,\n",
       "             colsample_bytree=None, device=None, early_stopping_rounds=None,\n",
       "             enable_categorical=False, eval_metric=None, feature_types=None,\n",
       "             gamma=None, grow_policy=None, importance_type=None,\n",
       "             interaction_constraints=None, learning_rate=None, max_bin=None,\n",
       "             max_cat_threshold=None, max_cat_to_onehot=None,\n",
       "             max_delta_step=None, max_depth=None, max_leaves=None,\n",
       "             min_child_weight=None, missing=nan, monotone_constraints=None,\n",
       "             multi_strategy=None, n_estimators=None, n_jobs=None,\n",
       "             num_parallel_tree=None, random_state=None, ...)</pre><b>In a Jupyter environment, please rerun this cell to show the HTML representation or trust the notebook. <br />On GitHub, the HTML representation is unable to render, please try loading this page with nbviewer.org.</b></div><div class=\"sk-container\" hidden><div class=\"sk-item\"><div class=\"sk-estimator sk-toggleable\"><input class=\"sk-toggleable__control sk-hidden--visually\" id=\"sk-estimator-id-6\" type=\"checkbox\" checked><label for=\"sk-estimator-id-6\" class=\"sk-toggleable__label sk-toggleable__label-arrow\">XGBRegressor</label><div class=\"sk-toggleable__content\"><pre>XGBRegressor(base_score=None, booster=None, callbacks=None,\n",
       "             colsample_bylevel=None, colsample_bynode=None,\n",
       "             colsample_bytree=None, device=None, early_stopping_rounds=None,\n",
       "             enable_categorical=False, eval_metric=None, feature_types=None,\n",
       "             gamma=None, grow_policy=None, importance_type=None,\n",
       "             interaction_constraints=None, learning_rate=None, max_bin=None,\n",
       "             max_cat_threshold=None, max_cat_to_onehot=None,\n",
       "             max_delta_step=None, max_depth=None, max_leaves=None,\n",
       "             min_child_weight=None, missing=nan, monotone_constraints=None,\n",
       "             multi_strategy=None, n_estimators=None, n_jobs=None,\n",
       "             num_parallel_tree=None, random_state=None, ...)</pre></div></div></div></div></div>"
      ],
      "text/plain": [
       "XGBRegressor(base_score=None, booster=None, callbacks=None,\n",
       "             colsample_bylevel=None, colsample_bynode=None,\n",
       "             colsample_bytree=None, device=None, early_stopping_rounds=None,\n",
       "             enable_categorical=False, eval_metric=None, feature_types=None,\n",
       "             gamma=None, grow_policy=None, importance_type=None,\n",
       "             interaction_constraints=None, learning_rate=None, max_bin=None,\n",
       "             max_cat_threshold=None, max_cat_to_onehot=None,\n",
       "             max_delta_step=None, max_depth=None, max_leaves=None,\n",
       "             min_child_weight=None, missing=nan, monotone_constraints=None,\n",
       "             multi_strategy=None, n_estimators=None, n_jobs=None,\n",
       "             num_parallel_tree=None, random_state=None, ...)"
      ]
     },
     "execution_count": 71,
     "metadata": {},
     "output_type": "execute_result"
    }
   ],
   "source": [
    "import xgboost as xgb\n",
    "classifier = xgb.XGBRegressor()\n",
    "classifier.fit(X_train,y_train)"
   ]
  },
  {
   "cell_type": "code",
   "execution_count": 72,
   "metadata": {},
   "outputs": [
    {
     "name": "stderr",
     "output_type": "stream",
     "text": [
      "d:\\SIH 2023\\sih\\lib\\site-packages\\xgboost\\data.py:335: FutureWarning: is_sparse is deprecated and will be removed in a future version. Check `isinstance(dtype, pd.SparseDtype)` instead.\n",
      "  if is_sparse(dtype):\n",
      "d:\\SIH 2023\\sih\\lib\\site-packages\\xgboost\\data.py:338: FutureWarning: is_categorical_dtype is deprecated and will be removed in a future version. Use isinstance(dtype, CategoricalDtype) instead\n",
      "  is_categorical_dtype(dtype) or is_pa_ext_categorical_dtype(dtype)\n",
      "d:\\SIH 2023\\sih\\lib\\site-packages\\xgboost\\data.py:384: FutureWarning: is_categorical_dtype is deprecated and will be removed in a future version. Use isinstance(dtype, CategoricalDtype) instead\n",
      "  if is_categorical_dtype(dtype):\n",
      "d:\\SIH 2023\\sih\\lib\\site-packages\\xgboost\\data.py:359: FutureWarning: is_categorical_dtype is deprecated and will be removed in a future version. Use isinstance(dtype, CategoricalDtype) instead\n",
      "  return is_int or is_bool or is_float or is_categorical_dtype(dtype)\n"
     ]
    }
   ],
   "source": [
    "y_pred = classifier.predict(X_test)"
   ]
  },
  {
   "cell_type": "code",
   "execution_count": 73,
   "metadata": {},
   "outputs": [
    {
     "data": {
      "text/plain": [
       "array([5647347. , 7149591.5, 7061733. , 6023917. , 7842145.5, 7254862.5,\n",
       "       7725747. , 5878451.5, 5172477.5, 8301144. , 6163856. , 7920732. ,\n",
       "       7126660.5, 5981361. , 7095516.5, 7882156. , 7248208.5, 6004254.5,\n",
       "       9508828. , 6576179. , 5452445. , 7428516.5, 9100549. , 7926057.5,\n",
       "       7067697.5, 5870049.5, 6358444. , 7848248.5, 5998860.5],\n",
       "      dtype=float32)"
      ]
     },
     "execution_count": 73,
     "metadata": {},
     "output_type": "execute_result"
    }
   ],
   "source": [
    "y_pred"
   ]
  },
  {
   "cell_type": "code",
   "execution_count": 74,
   "metadata": {},
   "outputs": [
    {
     "data": {
      "text/plain": [
       "50     5500000\n",
       "109    7100000\n",
       "61     7200000\n",
       "64     6100000\n",
       "111    7800000\n",
       "119    7100000\n",
       "12     7745000\n",
       "52     6200000\n",
       "39     4900000\n",
       "23     8345000\n",
       "91     5800000\n",
       "71     8000000\n",
       "46     7300000\n",
       "104    6500000\n",
       "94     7200000\n",
       "21     8020000\n",
       "42     7300000\n",
       "43     6200000\n",
       "10     9560000\n",
       "60     6500000\n",
       "66     5500000\n",
       "81     7500000\n",
       "25     9560000\n",
       "48     7800000\n",
       "76     6600000\n",
       "110    5700000\n",
       "75     6200000\n",
       "92     8000000\n",
       "54     6200000\n",
       "Name: Total Cost (INR), dtype: int64"
      ]
     },
     "execution_count": 74,
     "metadata": {},
     "output_type": "execute_result"
    }
   ],
   "source": [
    "y_test"
   ]
  },
  {
   "cell_type": "code",
   "execution_count": 75,
   "metadata": {},
   "outputs": [
    {
     "name": "stdout",
     "output_type": "stream",
     "text": [
      "96.31054653050889\n"
     ]
    }
   ],
   "source": [
    "from sklearn.metrics import r2_score\n",
    "r2=(r2_score(y_test,y_pred))\n",
    "print(r2*100)"
   ]
  },
  {
   "cell_type": "code",
   "execution_count": 76,
   "metadata": {},
   "outputs": [],
   "source": [
    "# # We need to prepare data as DMatrix objects\n",
    "# train = xgb.DMatrix(X_train, y_train)\n",
    "# test = xgb.DMatrix(X_test, y_test)\n",
    "\n",
    "# # We need to define parameters as dict\n",
    "# params = {\n",
    "#     \"learning_rate\": 0.01,\n",
    "#     \"max_depth\": 3\n",
    "# }\n",
    "# # training, we set the early stopping rounds parameter\n",
    "# model_xgb = xgb.train(params, \n",
    "#           train, evals=[(train, \"train\"), (test, \"validation\")], \n",
    "#           num_boost_round=100, early_stopping_rounds=20)"
   ]
  },
  {
   "cell_type": "code",
   "execution_count": 77,
   "metadata": {},
   "outputs": [],
   "source": [
    "# model_xgb.best_ntree_limit"
   ]
  },
  {
   "cell_type": "code",
   "execution_count": 78,
   "metadata": {},
   "outputs": [],
   "source": [
    "# for range in (1,100):\n",
    "#     n = max(model_xgb.get_score())"
   ]
  },
  {
   "cell_type": "code",
   "execution_count": null,
   "metadata": {},
   "outputs": [],
   "source": []
  },
  {
   "cell_type": "code",
   "execution_count": null,
   "metadata": {},
   "outputs": [],
   "source": []
  },
  {
   "cell_type": "code",
   "execution_count": 79,
   "metadata": {},
   "outputs": [],
   "source": [
    "# model_xgb.predict(test)"
   ]
  },
  {
   "cell_type": "code",
   "execution_count": 80,
   "metadata": {},
   "outputs": [],
   "source": [
    "# model_xgb.predict(test, ntree_limit=model_xgb.best_ntree_limit)\n",
    "# model_xgb.predict(test, pred_interactions=model_xgb.best_iteration)"
   ]
  },
  {
   "cell_type": "markdown",
   "metadata": {},
   "source": [
    "find best suited algorithm for the data"
   ]
  },
  {
   "cell_type": "code",
   "execution_count": 81,
   "metadata": {},
   "outputs": [
    {
     "name": "stdout",
     "output_type": "stream",
     "text": [
      "R-squared (R2): 0.8924892170947962\n"
     ]
    }
   ],
   "source": [
    "# linear regression\n",
    "\n",
    "from sklearn.linear_model import LinearRegression\n",
    "\n",
    "# Create a linear regression model\n",
    "model = LinearRegression()\n",
    "\n",
    "# Train the model on the training data\n",
    "model.fit(X_train, y_train)\n",
    "\n",
    "# Make predictions on the test set\n",
    "y_pred = model.predict(X_test)\n",
    "\n",
    "# Evaluate the model\n",
    "r2 = r2_score(y_test, y_pred)\n",
    "\n",
    "print(f\"R-squared (R2): {r2}\")\n"
   ]
  },
  {
   "cell_type": "code",
   "execution_count": 82,
   "metadata": {},
   "outputs": [
    {
     "name": "stdout",
     "output_type": "stream",
     "text": [
      "R-squared (R2): -0.8220173290075339\n"
     ]
    },
    {
     "name": "stderr",
     "output_type": "stream",
     "text": [
      "d:\\SIH 2023\\sih\\lib\\site-packages\\sklearn\\linear_model\\_logistic.py:460: ConvergenceWarning: lbfgs failed to converge (status=1):\n",
      "STOP: TOTAL NO. of ITERATIONS REACHED LIMIT.\n",
      "\n",
      "Increase the number of iterations (max_iter) or scale the data as shown in:\n",
      "    https://scikit-learn.org/stable/modules/preprocessing.html\n",
      "Please also refer to the documentation for alternative solver options:\n",
      "    https://scikit-learn.org/stable/modules/linear_model.html#logistic-regression\n",
      "  n_iter_i = _check_optimize_result(\n"
     ]
    }
   ],
   "source": [
    "# logistic regression\n",
    "\n",
    "from sklearn.linear_model import LogisticRegression\n",
    "\n",
    "# Create a logistic regression model\n",
    "model = LogisticRegression()\n",
    "\n",
    "# Train the model on the training data\n",
    "model.fit(X_train, y_train)\n",
    "\n",
    "# Make predictions on the test set\n",
    "y_pred = model.predict(X_test)\n",
    "\n",
    "# Evaluate the model\n",
    "r2 = r2_score(y_test, y_pred)\n",
    "\n",
    "print(f\"R-squared (R2): {r2}\")"
   ]
  },
  {
   "cell_type": "code",
   "execution_count": 83,
   "metadata": {},
   "outputs": [
    {
     "name": "stdout",
     "output_type": "stream",
     "text": [
      "R-squared (R2): 0.7033765649507979\n"
     ]
    }
   ],
   "source": [
    "# Support Vector Machine\n",
    "\n",
    "from sklearn.svm import SVC\n",
    "\n",
    "# Create an SVM model (you can choose the kernel based on your problem)\n",
    "model = SVC(kernel='linear')  # Linear kernel, you can choose others like 'rbf', 'poly', etc.\n",
    "\n",
    "# Train the model on the training data\n",
    "model.fit(X_train, y_train)\n",
    "\n",
    "# Make predictions on the test set\n",
    "y_pred = model.predict(X_test)\n",
    "\n",
    "# Evaluate the model\n",
    "r2 = r2_score(y_test, y_pred)\n",
    "\n",
    "print(f\"R-squared (R2): {r2}\")"
   ]
  },
  {
   "cell_type": "code",
   "execution_count": 84,
   "metadata": {},
   "outputs": [
    {
     "name": "stdout",
     "output_type": "stream",
     "text": [
      "R-squared (R2): 0.9562391643948037\n"
     ]
    }
   ],
   "source": [
    "#  Random Forest\n",
    "\n",
    "from sklearn.ensemble import RandomForestClassifier\n",
    "\n",
    "# Create a Random Forest model\n",
    "model = RandomForestClassifier(n_estimators=100, random_state=2)\n",
    "\n",
    "# Train the model on the training data\n",
    "model.fit(X_train, y_train)\n",
    "\n",
    "y_pred = model.predict(X_test)\n",
    "\n",
    "# Evaluate the model\n",
    "r2 = r2_score(y_test, y_pred)\n",
    "\n",
    "print(f\"R-squared (R2): {r2}\")"
   ]
  },
  {
   "cell_type": "code",
   "execution_count": 66,
   "metadata": {},
   "outputs": [
    {
     "name": "stdout",
     "output_type": "stream",
     "text": [
      "R-squared (R2): 0.8658894259940989\n"
     ]
    }
   ],
   "source": [
    "# gradient boosting classifier\n",
    "\n",
    "from sklearn.ensemble import GradientBoostingClassifier\n",
    "\n",
    "# Create a Gradient Boosting model\n",
    "model = GradientBoostingClassifier(n_estimators=100, learning_rate=0.1, random_state=42)\n",
    "\n",
    "# Train the model on the training data\n",
    "model.fit(X_train, y_train)\n",
    "\n",
    "# Make predictions on the test set\n",
    "y_pred = model.predict(X_test)\n",
    "\n",
    "# Evaluate the model\n",
    "r2 = r2_score(y_test, y_pred)\n",
    "\n",
    "print(f\"R-squared (R2): {r2}\")\n"
   ]
  },
  {
   "cell_type": "code",
   "execution_count": 67,
   "metadata": {},
   "outputs": [
    {
     "name": "stdout",
     "output_type": "stream",
     "text": [
      "R-squared (R2): 0.7074661315000541\n"
     ]
    }
   ],
   "source": [
    "#  K-Nearest Neighbors (KNN)\n",
    "\n",
    "from sklearn.neighbors import KNeighborsClassifier\n",
    "\n",
    "# Create a KNN model with a specified number of neighbors (e.g., 3)\n",
    "knn = KNeighborsClassifier(n_neighbors=3)\n",
    "\n",
    "# Train the model on the training data\n",
    "knn.fit(X_train, y_train)\n",
    "\n",
    "# Make predictions on the test set\n",
    "y_pred = knn.predict(X_test)\n",
    "\n",
    "# Evaluate the model\n",
    "r2 = r2_score(y_test, y_pred)\n",
    "\n",
    "print(f\"R-squared (R2): {r2}\")"
   ]
  },
  {
   "cell_type": "code",
   "execution_count": null,
   "metadata": {},
   "outputs": [],
   "source": []
  },
  {
   "cell_type": "code",
   "execution_count": 68,
   "metadata": {},
   "outputs": [
    {
     "name": "stdout",
     "output_type": "stream",
     "text": [
      "R-squared (R2): 0.9631054653050889\n"
     ]
    },
    {
     "name": "stderr",
     "output_type": "stream",
     "text": [
      "d:\\SIH 2023\\sih\\lib\\site-packages\\xgboost\\data.py:335: FutureWarning: is_sparse is deprecated and will be removed in a future version. Check `isinstance(dtype, pd.SparseDtype)` instead.\n",
      "  if is_sparse(dtype):\n",
      "d:\\SIH 2023\\sih\\lib\\site-packages\\xgboost\\data.py:338: FutureWarning: is_categorical_dtype is deprecated and will be removed in a future version. Use isinstance(dtype, CategoricalDtype) instead\n",
      "  is_categorical_dtype(dtype) or is_pa_ext_categorical_dtype(dtype)\n",
      "d:\\SIH 2023\\sih\\lib\\site-packages\\xgboost\\data.py:384: FutureWarning: is_categorical_dtype is deprecated and will be removed in a future version. Use isinstance(dtype, CategoricalDtype) instead\n",
      "  if is_categorical_dtype(dtype):\n",
      "d:\\SIH 2023\\sih\\lib\\site-packages\\xgboost\\data.py:359: FutureWarning: is_categorical_dtype is deprecated and will be removed in a future version. Use isinstance(dtype, CategoricalDtype) instead\n",
      "  return is_int or is_bool or is_float or is_categorical_dtype(dtype)\n",
      "d:\\SIH 2023\\sih\\lib\\site-packages\\xgboost\\data.py:520: FutureWarning: is_sparse is deprecated and will be removed in a future version. Check `isinstance(dtype, pd.SparseDtype)` instead.\n",
      "  if is_sparse(data):\n",
      "d:\\SIH 2023\\sih\\lib\\site-packages\\xgboost\\data.py:335: FutureWarning: is_sparse is deprecated and will be removed in a future version. Check `isinstance(dtype, pd.SparseDtype)` instead.\n",
      "  if is_sparse(dtype):\n",
      "d:\\SIH 2023\\sih\\lib\\site-packages\\xgboost\\data.py:338: FutureWarning: is_categorical_dtype is deprecated and will be removed in a future version. Use isinstance(dtype, CategoricalDtype) instead\n",
      "  is_categorical_dtype(dtype) or is_pa_ext_categorical_dtype(dtype)\n",
      "d:\\SIH 2023\\sih\\lib\\site-packages\\xgboost\\data.py:384: FutureWarning: is_categorical_dtype is deprecated and will be removed in a future version. Use isinstance(dtype, CategoricalDtype) instead\n",
      "  if is_categorical_dtype(dtype):\n",
      "d:\\SIH 2023\\sih\\lib\\site-packages\\xgboost\\data.py:359: FutureWarning: is_categorical_dtype is deprecated and will be removed in a future version. Use isinstance(dtype, CategoricalDtype) instead\n",
      "  return is_int or is_bool or is_float or is_categorical_dtype(dtype)\n"
     ]
    }
   ],
   "source": [
    "# XGBoost classifier \n",
    "\n",
    "import xgboost as xgb\n",
    "classifier = xgb.XGBRegressor()\n",
    "classifier.fit(X_train,y_train)\n",
    "\n",
    "\n",
    "# Make predictions on the test set\n",
    "y_pred = classifier.predict(X_test)\n",
    "\n",
    "# Evaluate the model\n",
    "r2 = r2_score(y_test, y_pred)\n",
    "\n",
    "print(f\"R-squared (R2): {r2}\")"
   ]
  },
  {
   "cell_type": "markdown",
   "metadata": {},
   "source": [
    "generally XGboost works best on these kind of data"
   ]
  },
  {
   "cell_type": "code",
   "execution_count": null,
   "metadata": {},
   "outputs": [],
   "source": []
  },
  {
   "cell_type": "code",
   "execution_count": null,
   "metadata": {},
   "outputs": [],
   "source": []
  },
  {
   "cell_type": "code",
   "execution_count": null,
   "metadata": {},
   "outputs": [],
   "source": []
  },
  {
   "cell_type": "code",
   "execution_count": null,
   "metadata": {},
   "outputs": [],
   "source": []
  },
  {
   "cell_type": "code",
   "execution_count": null,
   "metadata": {},
   "outputs": [],
   "source": []
  },
  {
   "cell_type": "markdown",
   "metadata": {},
   "source": [
    "try testing this model on test data"
   ]
  },
  {
   "cell_type": "code",
   "execution_count": null,
   "metadata": {},
   "outputs": [],
   "source": []
  },
  {
   "cell_type": "code",
   "execution_count": null,
   "metadata": {},
   "outputs": [],
   "source": []
  },
  {
   "cell_type": "code",
   "execution_count": null,
   "metadata": {},
   "outputs": [],
   "source": []
  },
  {
   "cell_type": "code",
   "execution_count": null,
   "metadata": {},
   "outputs": [],
   "source": []
  },
  {
   "cell_type": "markdown",
   "metadata": {},
   "source": [
    "save model by checkpoint as .h5 file with early stopping if required"
   ]
  },
  {
   "cell_type": "code",
   "execution_count": 69,
   "metadata": {},
   "outputs": [],
   "source": [
    "# save to json format\n",
    "classifier.save_model(\"files/sih_model.json\")"
   ]
  },
  {
   "cell_type": "code",
   "execution_count": 70,
   "metadata": {},
   "outputs": [
    {
     "name": "stderr",
     "output_type": "stream",
     "text": [
      "d:\\SIH 2023\\sih\\lib\\site-packages\\xgboost\\core.py:160: UserWarning: [11:55:10] WARNING: C:\\buildkite-agent\\builds\\buildkite-windows-cpu-autoscaling-group-i-0cec3277c4d9d0165-1\\xgboost\\xgboost-ci-windows\\src\\c_api\\c_api.cc:1240: Saving into deprecated binary model format, please consider using `json` or `ubj`. Model format will default to JSON in XGBoost 2.2 if not specified.\n",
      "  warnings.warn(smsg, UserWarning)\n"
     ]
    }
   ],
   "source": [
    "classifier.save_model(\"files/sih_model.h5\")"
   ]
  },
  {
   "cell_type": "code",
   "execution_count": 4,
   "metadata": {},
   "outputs": [
    {
     "ename": "XGBoostError",
     "evalue": "[18:43:32] C:\\buildkite-agent\\builds\\buildkite-windows-cpu-autoscaling-group-i-0cec3277c4d9d0165-1\\xgboost\\xgboost-ci-windows\\src\\data\\array_interface.h:492: Unicode-1 is not supported.",
     "output_type": "error",
     "traceback": [
      "\u001b[1;31m---------------------------------------------------------------------------\u001b[0m",
      "\u001b[1;31mXGBoostError\u001b[0m                              Traceback (most recent call last)",
      "\u001b[1;32md:\\SIH 2023\\sih\\houseprice_model.ipynb Cell 53\u001b[0m line \u001b[0;36m8\n\u001b[0;32m      <a href='vscode-notebook-cell:/d%3A/SIH%202023/sih/houseprice_model.ipynb#Y103sZmlsZQ%3D%3D?line=4'>5</a>\u001b[0m model\u001b[39m.\u001b[39mload_model(\u001b[39m'\u001b[39m\u001b[39mfiles/sih_model.json\u001b[39m\u001b[39m'\u001b[39m)\n\u001b[0;32m      <a href='vscode-notebook-cell:/d%3A/SIH%202023/sih/houseprice_model.ipynb#Y103sZmlsZQ%3D%3D?line=5'>6</a>\u001b[0m custom_input \u001b[39m=\u001b[39m np\u001b[39m.\u001b[39marray([[\u001b[39m'\u001b[39m\u001b[39mSouth Delhi\u001b[39m\u001b[39m'\u001b[39m,\u001b[39m'\u001b[39m\u001b[39mVasant Vihar\u001b[39m\u001b[39m'\u001b[39m,\u001b[39m150\u001b[39m,\u001b[39m3\u001b[39m,\u001b[39m'\u001b[39m\u001b[39mConcrete\u001b[39m\u001b[39m'\u001b[39m,\u001b[39m4000000\u001b[39m,\u001b[39m1500000\u001b[39m,\u001b[39m120000\u001b[39m,\u001b[39m120000\u001b[39m,\u001b[39m3\u001b[39m,\u001b[39m2\u001b[39m,\u001b[39m'\u001b[39m\u001b[39mXYZ Building Supply\u001b[39m\u001b[39m'\u001b[39m,\u001b[39m20\u001b[39m,\u001b[39m420\u001b[39m,\u001b[39m5400000\u001b[39m,\u001b[39m190\u001b[39m,\u001b[39m10\u001b[39m,\u001b[39m14\u001b[39m,\u001b[39m14\u001b[39m,\u001b[39m10\u001b[39m]])\n\u001b[1;32m----> <a href='vscode-notebook-cell:/d%3A/SIH%202023/sih/houseprice_model.ipynb#Y103sZmlsZQ%3D%3D?line=7'>8</a>\u001b[0m predictions \u001b[39m=\u001b[39m model\u001b[39m.\u001b[39mpredict(xgb\u001b[39m.\u001b[39;49mDMatrix(custom_input))\n",
      "File \u001b[1;32md:\\SIH 2023\\sih\\lib\\site-packages\\xgboost\\core.py:729\u001b[0m, in \u001b[0;36mrequire_keyword_args.<locals>.throw_if.<locals>.inner_f\u001b[1;34m(*args, **kwargs)\u001b[0m\n\u001b[0;32m    727\u001b[0m \u001b[39mfor\u001b[39;00m k, arg \u001b[39min\u001b[39;00m \u001b[39mzip\u001b[39m(sig\u001b[39m.\u001b[39mparameters, args):\n\u001b[0;32m    728\u001b[0m     kwargs[k] \u001b[39m=\u001b[39m arg\n\u001b[1;32m--> 729\u001b[0m \u001b[39mreturn\u001b[39;00m func(\u001b[39m*\u001b[39m\u001b[39m*\u001b[39mkwargs)\n",
      "File \u001b[1;32md:\\SIH 2023\\sih\\lib\\site-packages\\xgboost\\core.py:856\u001b[0m, in \u001b[0;36mDMatrix.__init__\u001b[1;34m(self, data, label, weight, base_margin, missing, silent, feature_names, feature_types, nthread, group, qid, label_lower_bound, label_upper_bound, feature_weights, enable_categorical, data_split_mode)\u001b[0m\n\u001b[0;32m    853\u001b[0m     \u001b[39massert\u001b[39;00m \u001b[39mself\u001b[39m\u001b[39m.\u001b[39mhandle \u001b[39mis\u001b[39;00m \u001b[39mnot\u001b[39;00m \u001b[39mNone\u001b[39;00m\n\u001b[0;32m    854\u001b[0m     \u001b[39mreturn\u001b[39;00m\n\u001b[1;32m--> 856\u001b[0m handle, feature_names, feature_types \u001b[39m=\u001b[39m dispatch_data_backend(\n\u001b[0;32m    857\u001b[0m     data,\n\u001b[0;32m    858\u001b[0m     missing\u001b[39m=\u001b[39;49m\u001b[39mself\u001b[39;49m\u001b[39m.\u001b[39;49mmissing,\n\u001b[0;32m    859\u001b[0m     threads\u001b[39m=\u001b[39;49m\u001b[39mself\u001b[39;49m\u001b[39m.\u001b[39;49mnthread,\n\u001b[0;32m    860\u001b[0m     feature_names\u001b[39m=\u001b[39;49mfeature_names,\n\u001b[0;32m    861\u001b[0m     feature_types\u001b[39m=\u001b[39;49mfeature_types,\n\u001b[0;32m    862\u001b[0m     enable_categorical\u001b[39m=\u001b[39;49menable_categorical,\n\u001b[0;32m    863\u001b[0m     data_split_mode\u001b[39m=\u001b[39;49mdata_split_mode,\n\u001b[0;32m    864\u001b[0m )\n\u001b[0;32m    865\u001b[0m \u001b[39massert\u001b[39;00m handle \u001b[39mis\u001b[39;00m \u001b[39mnot\u001b[39;00m \u001b[39mNone\u001b[39;00m\n\u001b[0;32m    866\u001b[0m \u001b[39mself\u001b[39m\u001b[39m.\u001b[39mhandle \u001b[39m=\u001b[39m handle\n",
      "File \u001b[1;32md:\\SIH 2023\\sih\\lib\\site-packages\\xgboost\\data.py:1055\u001b[0m, in \u001b[0;36mdispatch_data_backend\u001b[1;34m(data, missing, threads, feature_names, feature_types, enable_categorical, data_split_mode)\u001b[0m\n\u001b[0;32m   1051\u001b[0m     \u001b[39mreturn\u001b[39;00m _from_scipy_csr(\n\u001b[0;32m   1052\u001b[0m         data\u001b[39m.\u001b[39mtocsr(), missing, threads, feature_names, feature_types\n\u001b[0;32m   1053\u001b[0m     )\n\u001b[0;32m   1054\u001b[0m \u001b[39mif\u001b[39;00m _is_numpy_array(data):\n\u001b[1;32m-> 1055\u001b[0m     \u001b[39mreturn\u001b[39;00m _from_numpy_array(\n\u001b[0;32m   1056\u001b[0m         data, missing, threads, feature_names, feature_types, data_split_mode\n\u001b[0;32m   1057\u001b[0m     )\n\u001b[0;32m   1058\u001b[0m \u001b[39mif\u001b[39;00m _is_uri(data):\n\u001b[0;32m   1059\u001b[0m     \u001b[39mreturn\u001b[39;00m _from_uri(data, missing, feature_names, feature_types, data_split_mode)\n",
      "File \u001b[1;32md:\\SIH 2023\\sih\\lib\\site-packages\\xgboost\\data.py:207\u001b[0m, in \u001b[0;36m_from_numpy_array\u001b[1;34m(data, missing, nthread, feature_names, feature_types, data_split_mode)\u001b[0m\n\u001b[0;32m    205\u001b[0m data, _ \u001b[39m=\u001b[39m _ensure_np_dtype(data, data\u001b[39m.\u001b[39mdtype)\n\u001b[0;32m    206\u001b[0m handle \u001b[39m=\u001b[39m ctypes\u001b[39m.\u001b[39mc_void_p()\n\u001b[1;32m--> 207\u001b[0m _check_call(\n\u001b[0;32m    208\u001b[0m     _LIB\u001b[39m.\u001b[39;49mXGDMatrixCreateFromDense(\n\u001b[0;32m    209\u001b[0m         _array_interface(data),\n\u001b[0;32m    210\u001b[0m         make_jcargs(\n\u001b[0;32m    211\u001b[0m             missing\u001b[39m=\u001b[39;49m\u001b[39mfloat\u001b[39;49m(missing),\n\u001b[0;32m    212\u001b[0m             nthread\u001b[39m=\u001b[39;49m\u001b[39mint\u001b[39;49m(nthread),\n\u001b[0;32m    213\u001b[0m             data_split_mode\u001b[39m=\u001b[39;49m\u001b[39mint\u001b[39;49m(data_split_mode),\n\u001b[0;32m    214\u001b[0m         ),\n\u001b[0;32m    215\u001b[0m         ctypes\u001b[39m.\u001b[39;49mbyref(handle),\n\u001b[0;32m    216\u001b[0m     )\n\u001b[0;32m    217\u001b[0m )\n\u001b[0;32m    218\u001b[0m \u001b[39mreturn\u001b[39;00m handle, feature_names, feature_types\n",
      "File \u001b[1;32md:\\SIH 2023\\sih\\lib\\site-packages\\xgboost\\core.py:281\u001b[0m, in \u001b[0;36m_check_call\u001b[1;34m(ret)\u001b[0m\n\u001b[0;32m    270\u001b[0m \u001b[39m\u001b[39m\u001b[39m\"\"\"Check the return value of C API call\u001b[39;00m\n\u001b[0;32m    271\u001b[0m \n\u001b[0;32m    272\u001b[0m \u001b[39mThis function will raise exception when error occurs.\u001b[39;00m\n\u001b[1;32m   (...)\u001b[0m\n\u001b[0;32m    278\u001b[0m \u001b[39m    return value from API calls\u001b[39;00m\n\u001b[0;32m    279\u001b[0m \u001b[39m\"\"\"\u001b[39;00m\n\u001b[0;32m    280\u001b[0m \u001b[39mif\u001b[39;00m ret \u001b[39m!=\u001b[39m \u001b[39m0\u001b[39m:\n\u001b[1;32m--> 281\u001b[0m     \u001b[39mraise\u001b[39;00m XGBoostError(py_str(_LIB\u001b[39m.\u001b[39mXGBGetLastError()))\n",
      "\u001b[1;31mXGBoostError\u001b[0m: [18:43:32] C:\\buildkite-agent\\builds\\buildkite-windows-cpu-autoscaling-group-i-0cec3277c4d9d0165-1\\xgboost\\xgboost-ci-windows\\src\\data\\array_interface.h:492: Unicode-1 is not supported."
     ]
    }
   ],
   "source": [
    "import numpy as np\n",
    "import xgboost as xgb\n",
    "\n",
    "model = xgb.Booster()\n",
    "model.load_model('files/sih_model.json')\n",
    "custom_input = np.array([['South Delhi','Vasant Vihar',150,3,'Concrete',4000000,1500000,120000,120000,3,2,'XYZ Building Supply',20,420,5400000,190,10,14,14,10]])\n",
    "\n",
    "predictions = model.predict(xgb.DMatrix(custom_input))\n"
   ]
  },
  {
   "cell_type": "code",
   "execution_count": null,
   "metadata": {},
   "outputs": [],
   "source": []
  }
 ],
 "metadata": {
  "kernelspec": {
   "display_name": "sih",
   "language": "python",
   "name": "python3"
  },
  "language_info": {
   "codemirror_mode": {
    "name": "ipython",
    "version": 3
   },
   "file_extension": ".py",
   "mimetype": "text/x-python",
   "name": "python",
   "nbconvert_exporter": "python",
   "pygments_lexer": "ipython3",
   "version": "3.10.8"
  },
  "orig_nbformat": 4
 },
 "nbformat": 4,
 "nbformat_minor": 2
}
